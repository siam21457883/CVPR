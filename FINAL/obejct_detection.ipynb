{
 "cells": [
  {
   "cell_type": "code",
   "execution_count": null,
   "id": "7a971152-0dad-4d86-9870-9ce550b765c6",
   "metadata": {},
   "outputs": [],
   "source": [
    "!pip install ultralytics"
   ]
  },
  {
   "cell_type": "code",
   "execution_count": null,
   "id": "3a7f445f-bdca-4da2-8c01-fde530a42932",
   "metadata": {},
   "outputs": [],
   "source": [
    "cp -r /kaggle/input/bangladeshi-native-vehicle-dataset /kaggle/working"
   ]
  },
  {
   "cell_type": "code",
   "execution_count": null,
   "id": "0e1223af-6cf3-4602-a388-7b5d375e3457",
   "metadata": {},
   "outputs": [],
   "source": [
    "import os\n",
    "import random\n",
    "import shutil\n",
    "from pathlib import Path\n",
    "\n",
    "# Input\n",
    "img_dir = Path('/kaggle/working/bangladeshi-native-vehicle-dataset/ODS_New/images')\n",
    "lbl_dir = Path('/kaggle/working/bangladeshi-native-vehicle-dataset/ODS_New/labels')\n",
    "output_dir = Path('yolo_split')\n",
    "output_dir.mkdir(exist_ok=True)\n",
    "\n",
    "for sub in ['train', 'val', 'test']:\n",
    "    (output_dir / sub / 'images').mkdir(parents=True, exist_ok=True)\n",
    "    (output_dir / sub / 'labels').mkdir(parents=True, exist_ok=True)\n",
    "\n",
    "# Get files and shuffle\n",
    "all_files = list(img_dir.glob('*.jpg'))\n",
    "random.shuffle(all_files)\n",
    "\n",
    "n_total = len(all_files)\n",
    "n_train = int(0.7 * n_total)\n",
    "n_val = int(0.2 * n_total)\n",
    "n_test = n_total - n_train - n_val\n",
    "\n",
    "splits = {\n",
    "    'train': all_files[:n_train],\n",
    "    'val': all_files[n_train:n_train + n_val],\n",
    "    'test': all_files[n_train + n_val:]\n",
    "}\n",
    "\n",
    "for split, files in splits.items():\n",
    "    for img_path in files:\n",
    "        lbl_path = lbl_dir / (img_path.stem + '.txt')\n",
    "        shutil.copy(img_path, output_dir / split / 'images' / img_path.name)\n",
    "        shutil.copy(lbl_path, output_dir / split / 'labels' / lbl_path.name)\n"
   ]
  },
  {
   "cell_type": "code",
   "execution_count": null,
   "id": "7fcf217f-3b3a-406d-a352-85b7238826c1",
   "metadata": {},
   "outputs": [],
   "source": []
  }
 ],
 "metadata": {
  "kernelspec": {
   "display_name": "Python 3 (ipykernel)",
   "language": "python",
   "name": "python3"
  },
  "language_info": {
   "codemirror_mode": {
    "name": "ipython",
    "version": 3
   },
   "file_extension": ".py",
   "mimetype": "text/x-python",
   "name": "python",
   "nbconvert_exporter": "python",
   "pygments_lexer": "ipython3",
   "version": "3.13.5"
  }
 },
 "nbformat": 4,
 "nbformat_minor": 5
}
